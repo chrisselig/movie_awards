{
 "cells": [
  {
   "cell_type": "code",
   "execution_count": 3,
   "metadata": {},
   "outputs": [],
   "source": [
    "from google.oauth2.service_account import Credentials\n",
    "from googleapiclient.discovery import build\n",
    "\n",
    "import json\n",
    "\n",
    "# Path to the configuration file\n",
    "config_file = \"config.json\"\n",
    "\n",
    "# Load the folder ID from the configuration file\n",
    "try:\n",
    "    with open(config_file, \"r\") as f:\n",
    "        config = json.load(f)\n",
    "    folder_id = config.get(\"folder_id\")\n",
    "    if not folder_id:\n",
    "        raise ValueError(\"Folder ID not found in config file\")\n",
    "except FileNotFoundError:\n",
    "    raise FileNotFoundError(f\"Configuration file '{config_file}' not found\")\n"
   ]
  },
  {
   "cell_type": "code",
   "execution_count": 4,
   "metadata": {},
   "outputs": [
    {
     "name": "stdout",
     "output_type": "stream",
     "text": [
      "Files in the shared folder:\n",
      "Name: Best Movies.xlsx, ID: 1mcM1V2Mol1P7CQwGCytOR0v-YljJrXf0\n",
      "Name: Analysis.rar, ID: 1c34BLD7jNFAwprSItMzX20sF7l7MorL6\n",
      "Name: Worst Movies.xlsx, ID: 1TlfhJnH402hMhvJ8vF0HiOnRCj7axkka\n",
      "Name: Tyler Predictions.xlsx, ID: 1q3P3s2H4R4gfQixdmwjUJOUhIoN5UUy4\n",
      "Name: People Awards.xlsx, ID: 1kgUau5uSGRlEQ7YJFMFI4QP4DoQY8uF2\n",
      "Name: Castle Award.xlsx, ID: 17Jm1OVfESyybPkcVGEa0xyGrRlrfZoXa\n",
      "Name: Misc.xlsx, ID: 1DF6FRPzEhou4UBEBkK-pwzrJBh4aY-v6\n",
      "Name: Fan Stuff.xlsx, ID: 1kYy9jkYA5qYdYm9a4P4_oU3GjKtEKDVv\n",
      "Name: Other Stuff.xlsx, ID: 1yMtuv29eaHNppwzKZy_QH2F8WXlg1VGp\n"
     ]
    }
   ],
   "source": [
    "# Path to your service account JSON file\n",
    "SERVICE_ACCOUNT_FILE = 'service_account.json'\n",
    "\n",
    "# Authenticate with Google APIs\n",
    "credentials = Credentials.from_service_account_file(\n",
    "    SERVICE_ACCOUNT_FILE,\n",
    "    scopes=[\"https://www.googleapis.com/auth/drive.readonly\"]\n",
    ")\n",
    "\n",
    "# Build the Drive API client\n",
    "drive_service = build('drive', 'v3', credentials=credentials)\n",
    "\n",
    "# Define the shared folder ID (replace with the actual folder ID)\n",
    "f#older_id = folder_id\n",
    "\n",
    "# List files in the shared folder\n",
    "try:\n",
    "    results = drive_service.files().list(\n",
    "        q=f\"'{folder_id}' in parents\",\n",
    "        fields=\"files(id, name)\"\n",
    "    ).execute()\n",
    "    files = results.get('files', [])\n",
    "    if not files:\n",
    "        print(\"No files found.\")\n",
    "    else:\n",
    "        print(\"Files in the shared folder:\")\n",
    "        for file in files:\n",
    "            print(f\"Name: {file['name']}, ID: {file['id']}\")\n",
    "except Exception as e:\n",
    "    print(f\"Error accessing shared folder: {e}\")\n"
   ]
  }
 ],
 "metadata": {
  "kernelspec": {
   "display_name": "movie_awards",
   "language": "python",
   "name": "python3"
  },
  "language_info": {
   "codemirror_mode": {
    "name": "ipython",
    "version": 3
   },
   "file_extension": ".py",
   "mimetype": "text/x-python",
   "name": "python",
   "nbconvert_exporter": "python",
   "pygments_lexer": "ipython3",
   "version": "3.10.12"
  }
 },
 "nbformat": 4,
 "nbformat_minor": 2
}
